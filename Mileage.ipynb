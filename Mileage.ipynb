{
 "cells": [
  {
   "cell_type": "code",
   "execution_count": 1,
   "metadata": {},
   "outputs": [],
   "source": [
    "import numpy as np\n",
    "import pandas as pd\n",
    "import seaborn as sns\n",
    "import matplotlib.pyplot as plt\n",
    "%matplotlib inline\n"
   ]
  },
  {
   "cell_type": "code",
   "execution_count": 2,
   "metadata": {},
   "outputs": [],
   "source": [
    "mpg=sns.load_dataset('mpg')"
   ]
  },
  {
   "cell_type": "code",
   "execution_count": 3,
   "metadata": {},
   "outputs": [],
   "source": [
    "mpg.fillna(0,inplace=True)"
   ]
  },
  {
   "cell_type": "code",
   "execution_count": 4,
   "metadata": {},
   "outputs": [],
   "source": [
    "features=mpg[['horsepower','weight','displacement']]\n",
    "target=mpg['mpg']"
   ]
  },
  {
   "cell_type": "code",
   "execution_count": 5,
   "metadata": {},
   "outputs": [],
   "source": [
    "from sklearn.model_selection import train_test_split"
   ]
  },
  {
   "cell_type": "code",
   "execution_count": 6,
   "metadata": {},
   "outputs": [],
   "source": [
    "xtrain,xtest,ytrain,ytest= train_test_split(features, target,\n",
    "                    test_size=0.2, )"
   ]
  },
  {
   "cell_type": "code",
   "execution_count": 7,
   "metadata": {},
   "outputs": [],
   "source": [
    "from sklearn.linear_model import LinearRegression"
   ]
  },
  {
   "cell_type": "code",
   "execution_count": 8,
   "metadata": {},
   "outputs": [],
   "source": [
    "model=LinearRegression()"
   ]
  },
  {
   "cell_type": "code",
   "execution_count": 9,
   "metadata": {},
   "outputs": [
    {
     "data": {
      "text/plain": [
       "LinearRegression(copy_X=True, fit_intercept=True, n_jobs=None, normalize=False)"
      ]
     },
     "execution_count": 9,
     "metadata": {},
     "output_type": "execute_result"
    }
   ],
   "source": [
    "model.fit(xtrain,ytrain)"
   ]
  },
  {
   "cell_type": "code",
   "execution_count": 10,
   "metadata": {},
   "outputs": [],
   "source": [
    "ypred=model.predict(xtest)"
   ]
  },
  {
   "cell_type": "code",
   "execution_count": 11,
   "metadata": {},
   "outputs": [],
   "source": [
    "from sklearn.metrics import mean_squared_error, mean_absolute_error, r2_score"
   ]
  },
  {
   "cell_type": "code",
   "execution_count": 12,
   "metadata": {},
   "outputs": [
    {
     "name": "stdout",
     "output_type": "stream",
     "text": [
      "Accuracy:76.69\n"
     ]
    }
   ],
   "source": [
    "acc=r2_score(ytest,ypred)\n",
    "print(f'Accuracy:{acc*100:.2f}')"
   ]
  },
  {
   "cell_type": "code",
   "execution_count": 13,
   "metadata": {},
   "outputs": [],
   "source": [
    "import pickle"
   ]
  },
  {
   "cell_type": "code",
   "execution_count": 14,
   "metadata": {},
   "outputs": [],
   "source": [
    "file=open('mileage.pkl','wb') "
   ]
  },
  {
   "cell_type": "code",
   "execution_count": 15,
   "metadata": {},
   "outputs": [],
   "source": [
    "pickle.dump(model,file)"
   ]
  },
  {
   "cell_type": "code",
   "execution_count": 16,
   "metadata": {},
   "outputs": [],
   "source": [
    "file.close()"
   ]
  },
  {
   "cell_type": "code",
   "execution_count": 17,
   "metadata": {},
   "outputs": [
    {
     "name": "stdout",
     "output_type": "stream",
     "text": [
      "Writing mileage_app.py\n"
     ]
    }
   ],
   "source": [
    "%%writefile mileage_app.py\n",
    "import tkinter as tk\n",
    "import pickle\n",
    "\n",
    "with open('mileage.pkl', 'rb') as fp:\n",
    "    model = pickle.load(fp)\n",
    "    fp.close()\n",
    "\n",
    "\n",
    "root=tk.Tk()\n",
    "h=tk.DoubleVar()\n",
    "w=tk.DoubleVar()\n",
    "d=tk.DoubleVar()\n",
    "m=tk.DoubleVar()\n",
    "def predict():\n",
    "    price=model.predict([[h.get(),w.get(),d.get()]])[0]\n",
    "    m.set(price)\n",
    "def clear():\n",
    "    h.set('')\n",
    "    w.set('')\n",
    "    d.set('')\n",
    "    m.set('')\n",
    "\n",
    "f1=tk.Frame(root)\n",
    "label1=tk.Label(f1,text='Horsepower',fg='white',bg='black').pack(side=tk.LEFT)\n",
    "e1=tk.Entry(f1,textvariable=h,bg='#eeeeee', fg='#333333').pack()\n",
    "f1.pack(fill=tk.BOTH,padx=20)\n",
    "f2=tk.Frame(root)\n",
    "label2=tk.Label(f2,text='weight',fg='white',bg='black').pack(side=tk.LEFT)\n",
    "e2=tk.Entry(f2,textvariable=w,bg='#eeeeee', fg='#333333').pack()\n",
    "f2.pack(fill=tk.BOTH,padx=20)\n",
    "f3=tk.Frame(root)\n",
    "label3=tk.Label(f3,text='Displacement',fg='white',bg='black').pack(side=tk.LEFT)\n",
    "e3=tk.Entry(f3,textvariable=d,bg='#eeeeee', fg='#333333').pack()\n",
    "f3.pack(fill=tk.BOTH,padx=20)\n",
    "f4=tk.Frame(root)\n",
    "label4=tk.Label(f4,text='Milage',fg='white',bg='black').pack(side=tk.LEFT)\n",
    "e4=tk.Entry(f4,textvariable=m,bg='#eeeeee', fg='#333333').pack()\n",
    "f4.pack(fill=tk.BOTH,padx=20)\n",
    "pb=tk.Button(root,text='Predict',fg='white',bg='black',command=predict).pack(fill=tk.X)\n",
    "\n",
    "eb=tk.Button(root,text='Exit',fg=\"black\",bg='red',command=root.quit).pack(fill=tk.X)\n",
    "cb=tk.Button(root,text='clear',fg='black',bg='cyan',command=clear).pack(fill=tk.X)\n",
    "root.title('Mileage Calculator')\n",
    "root.mainloop()"
   ]
  },
  {
   "cell_type": "code",
   "execution_count": 18,
   "metadata": {},
   "outputs": [
    {
     "name": "stderr",
     "output_type": "stream",
     "text": [
      "C:\\Users\\HP\\AppData\\Local\\Programs\\Python\\Python38-32\\lib\\site-packages\\sklearn\\base.py:329: UserWarning: Trying to unpickle estimator LinearRegression from version 0.22.1 when using version 0.23.1. This might lead to breaking code or invalid results. Use at your own risk.\n",
      "  warnings.warn(\n"
     ]
    }
   ],
   "source": [
    "!python mileage_app.py"
   ]
  },
  {
   "cell_type": "code",
   "execution_count": null,
   "metadata": {},
   "outputs": [],
   "source": []
  }
 ],
 "metadata": {
  "kernelspec": {
   "display_name": "Python 3",
   "language": "python",
   "name": "python3"
  },
  "language_info": {
   "codemirror_mode": {
    "name": "ipython",
    "version": 3
   },
   "file_extension": ".py",
   "mimetype": "text/x-python",
   "name": "python",
   "nbconvert_exporter": "python",
   "pygments_lexer": "ipython3",
   "version": "3.7.6"
  }
 },
 "nbformat": 4,
 "nbformat_minor": 4
}
